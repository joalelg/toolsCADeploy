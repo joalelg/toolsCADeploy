{
 "cells": [
  {
   "cell_type": "code",
   "execution_count": 3,
   "metadata": {
    "scrolled": true
   },
   "outputs": [
    {
     "data": {
      "text/html": [
       "\n",
       "<script>\n",
       "  function code_toggle() {\n",
       "    if (code_shown){\n",
       "      $('div.input').hide('500');\n",
       "      $('#toggleButton').val('Show Code')\n",
       "    } else {\n",
       "      $('div.input').show('500');\n",
       "      $('#toggleButton').val('Hide Code')\n",
       "    }\n",
       "    code_shown = !code_shown\n",
       "  }\n",
       "\n",
       "  $( document ).ready(function(){\n",
       "    code_shown=false;\n",
       "    $('div.input').hide()\n",
       "  });\n",
       "</script>\n",
       "<form action=\"javascript:code_toggle()\"><input type=\"submit\" id=\"toggleButton\" value=\"Show Code\"></form>\n"
      ],
      "text/plain": [
       "<IPython.core.display.HTML object>"
      ]
     },
     "execution_count": 3,
     "metadata": {},
     "output_type": "execute_result"
    }
   ],
   "source": [
    "\n",
    "\n",
    "from IPython.display import HTML\n",
    "\n",
    "HTML('''\n",
    "<script>\n",
    "  function code_toggle() {\n",
    "    if (code_shown){\n",
    "      $('div.input').hide('500');\n",
    "      $('#toggleButton').val('Show Code')\n",
    "    } else {\n",
    "      $('div.input').show('500');\n",
    "      $('#toggleButton').val('Hide Code')\n",
    "    }\n",
    "    code_shown = !code_shown\n",
    "  }\n",
    "\n",
    "  $( document ).ready(function(){\n",
    "    code_shown=false;\n",
    "    $('div.input').hide()\n",
    "  });\n",
    "</script>\n",
    "<form action=\"javascript:code_toggle()\"><input type=\"submit\" id=\"toggleButton\" value=\"Show Code\"></form>\n",
    "''')\n"
   ]
  },
  {
   "cell_type": "markdown",
   "metadata": {},
   "source": [
    "# Data Science tools on Canada's Big  Cities"
   ]
  },
  {
   "cell_type": "code",
   "execution_count": 4,
   "metadata": {},
   "outputs": [],
   "source": [
    "import pandas as pd\n",
    "import os\n",
    "\n",
    "import numpy as np\n",
    "\n",
    "from scipy.stats import chi2_contingency\n",
    "from plot_post import plot_post\n",
    "\n",
    "# Visualization libraries\n",
    "import matplotlib\n",
    "matplotlib.rcParams.update({'font.size': 20})\n",
    "import matplotlib.pyplot as plt\n",
    "#plt.rcParams['font.size'] = 20\n",
    "# Seaborn for visualization\n",
    "import seaborn as sns\n",
    "#sns.set(font_scale = 1)\n",
    "import prince # Correspondenc Analysis (CA)\n",
    "\n",
    "%matplotlib inline  \n"
   ]
  },
  {
   "cell_type": "code",
   "execution_count": 5,
   "metadata": {},
   "outputs": [],
   "source": [
    "from ipywidgets import interact, interactive, fixed, interact_manual\n",
    "from IPython.display import display\n",
    "import ipywidgets as widgets\n"
   ]
  },
  {
   "cell_type": "code",
   "execution_count": 6,
   "metadata": {
    "scrolled": true
   },
   "outputs": [],
   "source": [
    "pc_gt_comp_df =  pd.read_csv('data/pc_gt_comp_df.csv', index_col = 0)\n",
    "tools_df = pd.read_csv('data/tools_df.csv', index_col = 0)\n",
    "tools_df.columns.rename('Tools', inplace=True)\n",
    "tools_df.columns = pd.Series([c.capitalize() for c in tools_df.columns], name = 'Tools')\n",
    "tools_df.index = pd.Series([c.split(',')[0].capitalize() for c in tools_df.index], name = 'Cities')\n"
   ]
  },
  {
   "cell_type": "code",
   "execution_count": 7,
   "metadata": {},
   "outputs": [],
   "source": [
    "#  Make ccrrespondence Analysis\n",
    "import seaborn as sns\n",
    "\n",
    "ca = prince.CA(\n",
    "     n_components=2,\n",
    "     n_iter=3,\n",
    "     copy=True,\n",
    "     check_input=True,\n",
    "     engine='auto',\n",
    "     random_state=42\n",
    "     )\n",
    "\n",
    "ca = ca.fit(tools_df)"
   ]
  },
  {
   "cell_type": "code",
   "execution_count": 8,
   "metadata": {},
   "outputs": [],
   "source": [
    "target_city = widgets.Dropdown(options = list(tools_df.index), value = 'Montreal')\n",
    "measure = widgets.Dropdown(options = list(pc_gt_comp_df.columns), value = 'Certainty')\n",
    "# An HBox lays out its children horizontally\n",
    "ui = widgets.HBox([target_city, measure])\n",
    "\n",
    "column_coords = ca.column_coordinates(tools_df)\n",
    "row_coords = ca.row_coordinates(tools_df)\n",
    "\n",
    "def interactive_plot(target_city, measure ):\n",
    "    print(target_city)\n",
    "    mask = sorted([i for i in pc_gt_comp_df.index if target_city in i] )\n",
    "    city_df = pc_gt_comp_df.loc[mask,:]\n",
    "    city_df.index = [i[0:i.rfind('_')].capitalize() for i in city_df.index]\n",
    "    city_df\n",
    "    city_coords = column_coords.join(city_df)\n",
    "    city_coords\n",
    "    plot_df = city_coords.reset_index().drop('index',axis = 1)\n",
    "\n",
    "    ax = ca.plot_coordinates(\n",
    "         X=tools_df,\n",
    "         ax=None, \n",
    "         x_component=0,\n",
    "         y_component=1,\n",
    "         show_row_labels=True,\n",
    "         show_col_labels=True,\n",
    "         figsize = (14,10) )\n",
    "\n",
    "    sns.scatterplot(plot_df.iloc[:,0], plot_df.iloc[:,1], s = 120, alpha = 1\n",
    "                    , hue =[round(i,2) for i in plot_df[measure]]\n",
    "                    , palette = sns.diverging_palette(220, 10, sep=120, n=len(column_coords.index))\n",
    "                                                  )\n",
    "    \n",
    "    plt.legend(loc='upper left')\n",
    "    plt.xlabel('Component 1  {:.2f}% (inertia)'.format((ca.explained_inertia_[0])))\n",
    "    plt.ylabel('Component 1  {:.2f}% (inertia)'.format((ca.explained_inertia_[1])))\n",
    "    matplotlib.rcParams[\"font.size\"] = 16\n",
    "    plt.show()\n"
   ]
  },
  {
   "cell_type": "code",
   "execution_count": 9,
   "metadata": {},
   "outputs": [
    {
     "data": {
      "application/vnd.jupyter.widget-view+json": {
       "model_id": "ba4b68425a69423988f521ed2dd227e8",
       "version_major": 2,
       "version_minor": 0
      },
      "text/plain": [
       "HBox(children=(Dropdown(options=('Montreal', 'Ottawa', 'Toronto', 'Vancouver'), value='Montreal'), Dropdown(in…"
      ]
     },
     "metadata": {},
     "output_type": "display_data"
    },
    {
     "data": {
      "application/vnd.jupyter.widget-view+json": {
       "model_id": "1e31da8359a8478783e91490e3622667",
       "version_major": 2,
       "version_minor": 0
      },
      "text/plain": [
       "Output()"
      ]
     },
     "metadata": {},
     "output_type": "display_data"
    }
   ],
   "source": [
    "out = widgets.interactive_output(interactive_plot, {'target_city': target_city, 'measure': measure})\n",
    "display(ui, out)"
   ]
  },
  {
   "cell_type": "code",
   "execution_count": 10,
   "metadata": {},
   "outputs": [
    {
     "data": {
      "text/html": [
       "<div>\n",
       "<style scoped>\n",
       "    .dataframe tbody tr th:only-of-type {\n",
       "        vertical-align: middle;\n",
       "    }\n",
       "\n",
       "    .dataframe tbody tr th {\n",
       "        vertical-align: top;\n",
       "    }\n",
       "\n",
       "    .dataframe thead th {\n",
       "        text-align: right;\n",
       "    }\n",
       "</style>\n",
       "<table border=\"1\" class=\"dataframe\">\n",
       "  <thead>\n",
       "    <tr style=\"text-align: right;\">\n",
       "      <th>Tools</th>\n",
       "      <th>Python</th>\n",
       "      <th>R</th>\n",
       "      <th>Tableau</th>\n",
       "      <th>Spark</th>\n",
       "      <th>Sql</th>\n",
       "      <th>Hadoop</th>\n",
       "      <th>Sas_others</th>\n",
       "    </tr>\n",
       "    <tr>\n",
       "      <th>Cities</th>\n",
       "      <th></th>\n",
       "      <th></th>\n",
       "      <th></th>\n",
       "      <th></th>\n",
       "      <th></th>\n",
       "      <th></th>\n",
       "      <th></th>\n",
       "    </tr>\n",
       "  </thead>\n",
       "  <tbody>\n",
       "    <tr>\n",
       "      <th>Montreal</th>\n",
       "      <td>38</td>\n",
       "      <td>15</td>\n",
       "      <td>5</td>\n",
       "      <td>27</td>\n",
       "      <td>25</td>\n",
       "      <td>25</td>\n",
       "      <td>14</td>\n",
       "    </tr>\n",
       "    <tr>\n",
       "      <th>Ottawa</th>\n",
       "      <td>19</td>\n",
       "      <td>16</td>\n",
       "      <td>2</td>\n",
       "      <td>9</td>\n",
       "      <td>11</td>\n",
       "      <td>3</td>\n",
       "      <td>5</td>\n",
       "    </tr>\n",
       "    <tr>\n",
       "      <th>Toronto</th>\n",
       "      <td>111</td>\n",
       "      <td>79</td>\n",
       "      <td>43</td>\n",
       "      <td>41</td>\n",
       "      <td>78</td>\n",
       "      <td>38</td>\n",
       "      <td>51</td>\n",
       "    </tr>\n",
       "    <tr>\n",
       "      <th>Vancouver</th>\n",
       "      <td>30</td>\n",
       "      <td>22</td>\n",
       "      <td>13</td>\n",
       "      <td>13</td>\n",
       "      <td>18</td>\n",
       "      <td>12</td>\n",
       "      <td>5</td>\n",
       "    </tr>\n",
       "  </tbody>\n",
       "</table>\n",
       "</div>"
      ],
      "text/plain": [
       "Tools      Python   R  Tableau  Spark  Sql  Hadoop  Sas_others\n",
       "Cities                                                        \n",
       "Montreal       38  15        5     27   25      25          14\n",
       "Ottawa         19  16        2      9   11       3           5\n",
       "Toronto       111  79       43     41   78      38          51\n",
       "Vancouver      30  22       13     13   18      12           5"
      ]
     },
     "execution_count": 10,
     "metadata": {},
     "output_type": "execute_result"
    }
   ],
   "source": [
    "tools_df"
   ]
  }
 ],
 "metadata": {
  "kernelspec": {
   "display_name": "Python 3",
   "language": "python",
   "name": "python3"
  },
  "language_info": {
   "codemirror_mode": {
    "name": "ipython",
    "version": 3
   },
   "file_extension": ".py",
   "mimetype": "text/x-python",
   "name": "python",
   "nbconvert_exporter": "python",
   "pygments_lexer": "ipython3",
   "version": "3.7.3"
  },
  "toc": {
   "base_numbering": 1,
   "nav_menu": {},
   "number_sections": true,
   "sideBar": true,
   "skip_h1_title": true,
   "title_cell": "Table des matières",
   "title_sidebar": "Contents",
   "toc_cell": true,
   "toc_position": {},
   "toc_section_display": true,
   "toc_window_display": false
  }
 },
 "nbformat": 4,
 "nbformat_minor": 2
}
